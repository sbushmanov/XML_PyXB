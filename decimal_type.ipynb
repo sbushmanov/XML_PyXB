{
 "cells": [
  {
   "cell_type": "code",
   "execution_count": 6,
   "metadata": {
    "collapsed": true
   },
   "outputs": [],
   "source": [
    "from lxml import etree\n",
    "\n",
    "def pprint(x):\n",
    "    print(etree.tostring(etree.fromstring(x)\n",
    "                         ,xml_declaration=\"xml_1.0\"\n",
    "                         ,pretty_print=True).decode(\"utf-8\"))"
   ]
  },
  {
   "cell_type": "code",
   "execution_count": 3,
   "metadata": {
    "collapsed": false
   },
   "outputs": [
    {
     "name": "stdout",
     "output_type": "stream",
     "text": [
      "Overwriting example_dec.xsd\n"
     ]
    }
   ],
   "source": [
    "%%writefile example_dec.xsd\n",
    "<?xml version=\"1.0\" encoding=\"utf-8\"?>\n",
    "<xs:schema elementFormDefault=\"qualified\" xmlns:xs=\"http://www.w3.org/2001/XMLSchema\">\n",
    "  <xs:element name=\"Item\">\n",
    "    <xs:complexType>\n",
    "      <xs:sequence>\n",
    "        <xs:element name=\"Name\" type=\"xs:string\" />\n",
    "        <xs:element name=\"Price\" type=\"xs:decimal\" />\n",
    "      </xs:sequence>\n",
    "    </xs:complexType>\n",
    "  </xs:element>\n",
    "</xs:schema>\n"
   ]
  },
  {
   "cell_type": "code",
   "execution_count": 4,
   "metadata": {
    "collapsed": false
   },
   "outputs": [
    {
     "name": "stdout",
     "output_type": "stream",
     "text": [
      "Python for AbsentNamespace0 requires 1 modules\n"
     ]
    },
    {
     "name": "stderr",
     "output_type": "stream",
     "text": [
      "rm: cannot remove ‘dec.py’: No such file or directory\n"
     ]
    }
   ],
   "source": [
    "%%bash\n",
    "rm dec.py\n",
    "pyxbgen_ru -u example_dec.xsd -m dec"
   ]
  },
  {
   "cell_type": "code",
   "execution_count": 7,
   "metadata": {
    "collapsed": false,
    "scrolled": true
   },
   "outputs": [
    {
     "name": "stdout",
     "output_type": "stream",
     "text": [
      "<?xml version='1.0' encoding='ASCII'?>\n",
      "<Item>\n",
      "  <Name>Book</Name>\n",
      "  <Price>2.1</Price>\n",
      "</Item>\n",
      "\n"
     ]
    }
   ],
   "source": [
    "import dec\n",
    "item = dec.Item(\"Book\", 2.1)\n",
    "pprint(item.toxml())"
   ]
  }
 ],
 "metadata": {
  "anaconda-cloud": {},
  "kernelspec": {
   "display_name": "Python [default]",
   "language": "python",
   "name": "python3"
  },
  "language_info": {
   "codemirror_mode": {
    "name": "ipython",
    "version": 3
   },
   "file_extension": ".py",
   "mimetype": "text/x-python",
   "name": "python",
   "nbconvert_exporter": "python",
   "pygments_lexer": "ipython3",
   "version": "3.5.2"
  }
 },
 "nbformat": 4,
 "nbformat_minor": 1
}
