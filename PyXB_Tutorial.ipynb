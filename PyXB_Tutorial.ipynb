{
 "cells": [
  {
   "cell_type": "markdown",
   "metadata": {
    "toc": "true"
   },
   "source": [
    "# Table of Contents\n",
    " <p><div class=\"lev1 toc-item\"><a href=\"#Generating-simple-xml-from-XSD\" data-toc-modified-id=\"Generating-simple-xml-from-XSD-1\"><span class=\"toc-item-num\">1&nbsp;&nbsp;</span>Generating simple xml from XSD</a></div><div class=\"lev1 toc-item\"><a href=\"#USAddress\" data-toc-modified-id=\"USAddress-2\"><span class=\"toc-item-num\">2&nbsp;&nbsp;</span>USAddress</a></div><div class=\"lev1 toc-item\"><a href=\"#2.-Setting-attributes\" data-toc-modified-id=\"2.-Setting-attributes-3\"><span class=\"toc-item-num\">3&nbsp;&nbsp;</span>2. Setting attributes</a></div><div class=\"lev1 toc-item\"><a href=\"#3.-Complex-(a.k.a.-multi-document)-schema\" data-toc-modified-id=\"3.-Complex-(a.k.a.-multi-document)-schema-4\"><span class=\"toc-item-num\">4&nbsp;&nbsp;</span>3. Complex (a.k.a. multi-document) schema</a></div>"
   ]
  },
  {
   "cell_type": "markdown",
   "metadata": {},
   "source": [
    "# Generating simple xml from XSD\n",
    "\n",
    "`address.xsd` is a simple XSD (XML Schema Definition):"
   ]
  },
  {
   "cell_type": "code",
   "execution_count": 2,
   "metadata": {
    "collapsed": false
   },
   "outputs": [
    {
     "ename": "SyntaxError",
     "evalue": "invalid syntax (<ipython-input-2-4f8896348fe7>, line 2)",
     "output_type": "error",
     "traceback": [
      "\u001b[0;36m  File \u001b[0;32m\"<ipython-input-2-4f8896348fe7>\"\u001b[0;36m, line \u001b[0;32m2\u001b[0m\n\u001b[0;31m    <xsd:schema xmlns:xsd=\"http://www.w3.org/2001/XMLSchema\">\u001b[0m\n\u001b[0m    ^\u001b[0m\n\u001b[0;31mSyntaxError\u001b[0m\u001b[0;31m:\u001b[0m invalid syntax\n"
     ]
    }
   ],
   "source": [
    "# %load address.xsd\n",
    "<xsd:schema xmlns:xsd=\"http://www.w3.org/2001/XMLSchema\">\n",
    "  <xsd:complexType name=\"Address\">\n",
    "    <xsd:sequence>\n",
    "      <xsd:element name=\"name\"   type=\"xsd:string\"/>\n",
    "      <xsd:element name=\"street\" type=\"xsd:string\"/>\n",
    "      <xsd:element name=\"city\"   type=\"xsd:string\"/>\n",
    "    </xsd:sequence>\n",
    "  </xsd:complexType>\n",
    "\n",
    "  <xsd:complexType name=\"USAddress\">\n",
    "    <xsd:complexContent>\n",
    "      <xsd:extension base=\"Address\">\n",
    "        <xsd:sequence>\n",
    "          <xsd:element name=\"state\" type=\"USState\"/>\n",
    "          <xsd:element name=\"zip\"   type=\"xsd:positiveInteger\"/>\n",
    "        </xsd:sequence>\n",
    "        <xsd:attribute name=\"country\" type=\"xsd:NMTOKEN\" fixed=\"US\"/>\n",
    "      </xsd:extension>\n",
    "    </xsd:complexContent>\n",
    "  </xsd:complexType>\n",
    "\n",
    "  <xsd:complexType name=\"UKAddress\">\n",
    "    <xsd:complexContent>\n",
    "      <xsd:extension base=\"Address\">\n",
    "        <xsd:sequence>\n",
    "          <xsd:element name=\"postcode\" type=\"UKPostcode\"/>\n",
    "        </xsd:sequence>\n",
    "        <attribute name=\"exportCode\" type=\"xsd:positiveInteger\" fixed=\"1\"/>\n",
    "      </xsd:extension>\n",
    "    </xsd:complexContent>\n",
    "  </xsd:complexType>\n",
    "\n",
    "  <!-- other Address derivations for more countries -->\n",
    "\n",
    "  <xsd:simpleType name=\"USState\">\n",
    "    <xsd:restriction base=\"xsd:string\">\n",
    "      <xsd:enumeration value=\"AK\"/>\n",
    "      <xsd:enumeration value=\"AL\"/>\n",
    "      <xsd:enumeration value=\"AR\"/>\n",
    "      <xsd:enumeration value=\"AZ\"/>\n",
    "      <!-- and so on ... -->\n",
    "    </xsd:restriction>\n",
    "  </xsd:simpleType>\n",
    "\n",
    "  <!-- simple type definition for UKPostcode -->\n",
    "  <!-- *** pyxb mod: provide missing STD *** -->\n",
    "  <xsd:simpleType name=\"UKPostcode\">\n",
    "    <xsd:restriction base=\"xsd:string\">\n",
    "      <xsd:pattern value=\"[A-Z]{2}\\d\\s\\d[A-Z]{2}\"/>\n",
    "    </xsd:restriction>\n",
    "  </xsd:simpleType>\n",
    "\n",
    "</xsd:schema>\n"
   ]
  },
  {
   "cell_type": "markdown",
   "metadata": {},
   "source": [
    "To generate `address` XML element we should first generate Python binding classes:"
   ]
  },
  {
   "cell_type": "code",
   "execution_count": 3,
   "metadata": {
    "collapsed": false
   },
   "outputs": [
    {
     "name": "stdout",
     "output_type": "stream",
     "text": [
      "Python for AbsentNamespace0 requires 1 modules\n"
     ]
    }
   ],
   "source": [
    "%%bash\n",
    "rm address.py # to prevent conflicts\n",
    "pyxbgen_ru -u address.xsd -m address"
   ]
  },
  {
   "cell_type": "markdown",
   "metadata": {},
   "source": [
    "Let's also define function for pretty printing XML schemas:"
   ]
  },
  {
   "cell_type": "code",
   "execution_count": 4,
   "metadata": {
    "collapsed": true
   },
   "outputs": [],
   "source": [
    "from lxml import etree\n",
    "\n",
    "def pprint(x):\n",
    "    print(etree.tostring(etree.fromstring(x)\n",
    "                         ,xml_declaration=\"xml_1.0\"\n",
    "                         ,pretty_print=True\n",
    "                         ,encoding=\"utf-8\"\n",
    "                        ).decode(\"utf-8\")    \n",
    "          \n",
    "         )"
   ]
  },
  {
   "cell_type": "markdown",
   "metadata": {},
   "source": [
    "We are now reade to generate several elements from our schema depending on our needs:\n",
    "\n",
    "### 1. Generic Address\n",
    "\n",
    "`Address` element without particular specification weather it belongs to US or UK:"
   ]
  },
  {
   "cell_type": "code",
   "execution_count": 5,
   "metadata": {
    "collapsed": false
   },
   "outputs": [
    {
     "name": "stdout",
     "output_type": "stream",
     "text": [
      "<?xml version='1.0' encoding='utf-8'?>\n",
      "<Address>\n",
      "  <name>Robert Smith</name>\n",
      "  <street>8 Oak Avenue</street>\n",
      "  <city>Anytown</city>\n",
      "</Address>\n",
      "\n"
     ]
    }
   ],
   "source": [
    "import address\n",
    "\n",
    "addr = address.Address()\n",
    "addr.name = 'Robert Smith'\n",
    "addr.street = '8 Oak Avenue'\n",
    "addr.city = 'Anytown'\n",
    "addr.state = 'AK'\n",
    "addr.zip = 12341\n",
    "\n",
    "pprint(addr.toxml(element_name=\"Address\"))"
   ]
  },
  {
   "cell_type": "markdown",
   "metadata": {},
   "source": [
    "# USAddress"
   ]
  },
  {
   "cell_type": "code",
   "execution_count": 6,
   "metadata": {
    "collapsed": false
   },
   "outputs": [
    {
     "name": "stdout",
     "output_type": "stream",
     "text": [
      "<?xml version='1.0' encoding='utf-8'?>\n",
      "<USAddress>\n",
      "  <name>Robert Smith</name>\n",
      "  <street>8 Oak Avenue</street>\n",
      "  <city>Anytown</city>\n",
      "  <state>AK</state>\n",
      "  <zip>12341</zip>\n",
      "</USAddress>\n",
      "\n"
     ]
    }
   ],
   "source": [
    "addr = address.USAddress()\n",
    "addr.name = 'Robert Smith'\n",
    "addr.street = '8 Oak Avenue'\n",
    "addr.city = 'Anytown'\n",
    "addr.state = 'AK'\n",
    "addr.zip = 12341\n",
    "\n",
    "pprint(addr.toxml(element_name=\"USAddress\"))"
   ]
  },
  {
   "cell_type": "markdown",
   "metadata": {},
   "source": [
    "Couple of takeways:  \n",
    "- `address` schema is of `ComplexType`; thus, not having a `root element` in our schema, we\n",
    "need to specify `element_name` explicitely in `to_xml` method  \n",
    "- with this schema definition we can generate several xml documents:  \n",
    "    - for generic Address  \n",
    "    - for USAddress   \n",
    "    - for UKAddress     \n",
    "    \n",
    "Assuming we follow the order, in which the elements of USAddress are defined, we can simplify further:"
   ]
  },
  {
   "cell_type": "code",
   "execution_count": 7,
   "metadata": {
    "collapsed": false
   },
   "outputs": [
    {
     "name": "stdout",
     "output_type": "stream",
     "text": [
      "<?xml version='1.0' encoding='utf-8'?>\n",
      "<USAddress>\n",
      "  <name>Robert Smith</name>\n",
      "  <street>8 Oak Avenue</street>\n",
      "  <city>Anytown</city>\n",
      "  <state>AK</state>\n",
      "  <zip>12341</zip>\n",
      "</USAddress>\n",
      "\n"
     ]
    }
   ],
   "source": [
    "addr = address.USAddress('Robert Smith', '8 Oak Avenue', 'Anytown', 'AK', 12341)\n",
    "\n",
    "pprint(addr.toxml(element_name='USAddress'))"
   ]
  },
  {
   "cell_type": "markdown",
   "metadata": {},
   "source": [
    "# 2. Setting attributes  \n",
    "\n",
    "Attributes are set using keywords:"
   ]
  },
  {
   "cell_type": "code",
   "execution_count": 8,
   "metadata": {
    "collapsed": false
   },
   "outputs": [
    {
     "name": "stdout",
     "output_type": "stream",
     "text": [
      "Python for URN:address requires 2 modules\n"
     ]
    }
   ],
   "source": [
    "%%bash\n",
    "rm po4.py\n",
    "rm address.py\n",
    "pyxbgen_ru -u po4.xsd -m po4 -u nsaddress.xsd -m address"
   ]
  },
  {
   "cell_type": "code",
   "execution_count": 9,
   "metadata": {
    "collapsed": false
   },
   "outputs": [
    {
     "data": {
      "text/plain": [
       "<module 'address' from '/home/sergey/Py_PyXB/address.py'>"
      ]
     },
     "execution_count": 9,
     "metadata": {},
     "output_type": "execute_result"
    }
   ],
   "source": [
    "import importlib\n",
    "importlib.reload(address)"
   ]
  },
  {
   "cell_type": "code",
   "execution_count": 10,
   "metadata": {
    "collapsed": false
   },
   "outputs": [
    {
     "name": "stdout",
     "output_type": "stream",
     "text": [
      "<?xml version='1.0' encoding='utf-8'?>\n",
      "<ns1:purchaseOrder xmlns:ns1=\"URN:purchase-order\" orderDate=\"1999-10-20\">\n",
      "  <ns1:shipTo>\n",
      "    <name>Alice Smith</name>\n",
      "    <city>Anytown</city>\n",
      "    <zip>12341</zip>\n",
      "    <state>AK</state>\n",
      "    <street>123 Maple Street</street>\n",
      "  </ns1:shipTo>\n",
      "  <ns1:billTo>\n",
      "    <name>Robert Smith</name>\n",
      "    <city>Anytown</city>\n",
      "    <zip>12341</zip>\n",
      "    <state>AK</state>\n",
      "    <street>8 Oak Avenue</street>\n",
      "  </ns1:billTo>\n",
      "</ns1:purchaseOrder>\n",
      "\n"
     ]
    }
   ],
   "source": [
    "import pyxb\n",
    "import po4\n",
    "import pyxb.binding.datatypes as xs\n",
    "\n",
    "po = po4.purchaseOrder(orderDate=xs.date(1999, 10, 20))\n",
    "po.shipTo = address.USAddress('Alice Smith', '123 Maple Street', 'Anytown', 'AK', 12341)\n",
    "po.billTo = address.USAddress('Robert Smith', '8 Oak Avenue', 'Anytown', 'AK', 12341)\n",
    "\n",
    "pyxb.RequireValidWhenGenerating(False)\n",
    "pprint(po.toxml(\"utf-8\"))"
   ]
  },
  {
   "cell_type": "markdown",
   "metadata": {},
   "source": [
    "# 3. Complex (a.k.a. multi-document) schema"
   ]
  },
  {
   "cell_type": "code",
   "execution_count": 11,
   "metadata": {
    "collapsed": false
   },
   "outputs": [
    {
     "ename": "SyntaxError",
     "evalue": "invalid syntax (<ipython-input-11-4bd644649927>, line 2)",
     "output_type": "error",
     "traceback": [
      "\u001b[0;36m  File \u001b[0;32m\"<ipython-input-11-4bd644649927>\"\u001b[0;36m, line \u001b[0;32m2\u001b[0m\n\u001b[0;31m    <xsd:schema xmlns:xsd=\"http://www.w3.org/2001/XMLSchema\"\u001b[0m\n\u001b[0m    ^\u001b[0m\n\u001b[0;31mSyntaxError\u001b[0m\u001b[0;31m:\u001b[0m invalid syntax\n"
     ]
    }
   ],
   "source": [
    "# %load po4.xsd\n",
    "<xsd:schema xmlns:xsd=\"http://www.w3.org/2001/XMLSchema\"\n",
    "   targetNamespace=\"URN:purchase-order\"\n",
    "   xmlns:tns=\"URN:purchase-order\"\n",
    "   xmlns:address=\"URN:address\"\n",
    "   elementFormDefault=\"qualified\">\n",
    "  <xsd:import namespace=\"URN:address\" schemaLocation=\"nsaddress.xsd\"/>\n",
    "  <xsd:element name=\"purchaseOrder\" type=\"tns:PurchaseOrderType\"/>\n",
    "  <xsd:element name=\"comment\" type=\"xsd:string\"/>\n",
    "  <xsd:complexType name=\"PurchaseOrderType\">\n",
    "    <xsd:sequence>\n",
    "      <xsd:element name=\"shipTo\" type=\"address:USAddress\"/>\n",
    "      <xsd:element name=\"billTo\" type=\"address:USAddress\"/>\n",
    "      <xsd:element ref=\"tns:comment\" minOccurs=\"0\"/>\n",
    "      <xsd:element name=\"items\"  type=\"tns:Items\"/>\n",
    "    </xsd:sequence>\n",
    "    <xsd:attribute name=\"orderDate\" type=\"xsd:date\"/>\n",
    "  </xsd:complexType>\n",
    "  <xsd:complexType name=\"Items\">\n",
    "    <xsd:sequence>\n",
    "      <xsd:element name=\"item\" minOccurs=\"0\" maxOccurs=\"unbounded\">\n",
    "        <xsd:complexType>\n",
    "          <xsd:sequence>\n",
    "            <xsd:element name=\"productName\" type=\"xsd:string\"/>\n",
    "            <xsd:element name=\"quantity\">\n",
    "              <xsd:simpleType>\n",
    "                <xsd:restriction base=\"xsd:positiveInteger\">\n",
    "                  <xsd:maxExclusive value=\"100\"/>\n",
    "                </xsd:restriction>\n",
    "              </xsd:simpleType>\n",
    "            </xsd:element>\n",
    "            <xsd:element name=\"USPrice\"  type=\"xsd:decimal\"/>\n",
    "            <xsd:element ref=\"tns:comment\"   minOccurs=\"0\"/>\n",
    "            <xsd:element name=\"shipDate\" type=\"xsd:date\" minOccurs=\"0\"/>\n",
    "          </xsd:sequence>\n",
    "          <xsd:attribute name=\"partNum\" type=\"tns:SKU\" use=\"required\"/>\n",
    "        </xsd:complexType>\n",
    "      </xsd:element>\n",
    "    </xsd:sequence>\n",
    "  </xsd:complexType>\n",
    "  <!-- Stock Keeping Unit, a code for identifying products -->\n",
    "  <xsd:simpleType name=\"SKU\">\n",
    "    <xsd:restriction base=\"xsd:string\">\n",
    "      <xsd:pattern value=\"\\d{3}-[A-Z]{2}\"/>\n",
    "    </xsd:restriction>\n",
    "  </xsd:simpleType>\n",
    "\n",
    "</xsd:schema>\n"
   ]
  },
  {
   "cell_type": "code",
   "execution_count": 12,
   "metadata": {
    "collapsed": false
   },
   "outputs": [
    {
     "name": "stdout",
     "output_type": "stream",
     "text": [
      "Python for URN:address requires 2 modules\n"
     ]
    }
   ],
   "source": [
    "%%bash\n",
    "rm address.py\n",
    "rm po4.py\n",
    "pyxbgen_ru -u po4.xsd -m po4 -u nsaddress.xsd -m address"
   ]
  },
  {
   "cell_type": "code",
   "execution_count": 13,
   "metadata": {
    "collapsed": true
   },
   "outputs": [
    {
     "name": "stdout",
     "output_type": "stream",
     "text": [
      "<?xml version='1.0' encoding='utf-8'?>\n",
      "<FinMon:purchaseOrder xmlns:FinMon=\"URN:purchase-order\" orderDate=\"2016-01-13\">\n",
      "  <FinMon:shipTo country=\"US\">\n",
      "    <name>Alice Smith</name>\n",
      "    <city>Anytown</city>\n",
      "    <zip>12341</zip>\n",
      "    <state>AK</state>\n",
      "    <street>123 Maple Street</street>\n",
      "  </FinMon:shipTo>\n",
      "  <FinMon:billTo country=\"US\">\n",
      "    <name>Robert Smith</name>\n",
      "    <city>Anytown</city>\n",
      "    <zip>12341</zip>\n",
      "    <state>AK</state>\n",
      "    <street>8 Oak Avenue</street>\n",
      "  </FinMon:billTo>\n",
      "  <FinMon:items>\n",
      "    <FinMon:item partNum=\"798-DF\">\n",
      "      <FinMon:shipDate>2016-02-28</FinMon:shipDate>\n",
      "      <FinMon:productName>Necklace</FinMon:productName>\n",
      "      <FinMon:comment>Want this for the holidays!</FinMon:comment>\n",
      "      <FinMon:quantity>4</FinMon:quantity>\n",
      "      <FinMon:USPrice>30.0</FinMon:USPrice>\n",
      "    </FinMon:item>\n",
      "    <FinMon:item partNum=\"798-FD\">\n",
      "      <FinMon:shipDate>2016-03-18</FinMon:shipDate>\n",
      "      <FinMon:productName>Cockless</FinMon:productName>\n",
      "      <FinMon:quantity>1</FinMon:quantity>\n",
      "      <FinMon:USPrice>25.0</FinMon:USPrice>\n",
      "    </FinMon:item>\n",
      "  </FinMon:items>\n",
      "</FinMon:purchaseOrder>\n",
      "\n"
     ]
    }
   ],
   "source": [
    "import pyxb\n",
    "import po4\n",
    "import address\n",
    "import datetime\n",
    "import pyxb.binding.datatypes as xs\n",
    "pyxb.utils.domutils.BindingDOMSupport.DeclareNamespace(po4.Namespace, 'FinMon')\n",
    "\n",
    "po = po4.purchaseOrder()\n",
    "po.orderDate = xs.date(2016, 1, 13)\n",
    "po.shipTo = address.USAddress('Alice Smith', '123 Maple Street', 'Anytown', 'AK', 12341)\n",
    "po.billTo = address.USAddress('Robert Smith', '8 Oak Avenue', 'Anytown', 'AK', 12341)\n",
    "\n",
    "po.items = pyxb.BIND(pyxb.BIND(\"Necklace\", 4 , 30.0, partNum=\"798-DF\")\n",
    "                    ,pyxb.BIND(\"Cockless\", 1 , 25.0, partNum=\"798-FD\")\n",
    "                    )\n",
    "\n",
    "po.shipTo.country = po.billTo.country = po.shipTo.country\n",
    "\n",
    "necklace = po.items.item[0]\n",
    "necklace.shipDate = po.orderDate + datetime.timedelta(days=46)\n",
    "necklace.comment = 'Want this for the holidays!'\n",
    "\n",
    "po.items.item[1].shipDate = po.items.item[0].shipDate + datetime.timedelta(days=19)\n",
    "\n",
    "pprint(po.toxml())"
   ]
  },
  {
   "cell_type": "code",
   "execution_count": 16,
   "metadata": {
    "collapsed": true
   },
   "outputs": [],
   "source": [
    "po.items.item.append(pyxb.BIND(\"Neck\", 4 , 30.0, partNum=\"798-DD\"))"
   ]
  },
  {
   "cell_type": "code",
   "execution_count": 19,
   "metadata": {
    "collapsed": false
   },
   "outputs": [
    {
     "name": "stdout",
     "output_type": "stream",
     "text": [
      "<?xml version=\"1.0\" encoding=\"utf-8\"?>\n",
      "<FinMon:purchaseOrder orderDate=\"2016-01-13\" xmlns:FinMon=\"URN:purchase-order\">\n",
      "\t<FinMon:shipTo country=\"US\">\n",
      "\t\t<name>Alice Smith</name>\n",
      "\t\t<city>Anytown</city>\n",
      "\t\t<zip>12341</zip>\n",
      "\t\t<state>AK</state>\n",
      "\t\t<street>123 Maple Street</street>\n",
      "\t</FinMon:shipTo>\n",
      "\t<FinMon:billTo country=\"US\">\n",
      "\t\t<name>Robert Smith</name>\n",
      "\t\t<city>Anytown</city>\n",
      "\t\t<zip>12341</zip>\n",
      "\t\t<state>AK</state>\n",
      "\t\t<street>8 Oak Avenue</street>\n",
      "\t</FinMon:billTo>\n",
      "\t<FinMon:items>\n",
      "\t\t<FinMon:item partNum=\"798-DF\">\n",
      "\t\t\t<FinMon:shipDate>2016-02-28</FinMon:shipDate>\n",
      "\t\t\t<FinMon:productName>Necklace</FinMon:productName>\n",
      "\t\t\t<FinMon:comment>Want this for the holidays!</FinMon:comment>\n",
      "\t\t\t<FinMon:quantity>4</FinMon:quantity>\n",
      "\t\t\t<FinMon:USPrice>30.0</FinMon:USPrice>\n",
      "\t\t</FinMon:item>\n",
      "\t\t<FinMon:item partNum=\"798-FD\">\n",
      "\t\t\t<FinMon:shipDate>2016-03-18</FinMon:shipDate>\n",
      "\t\t\t<FinMon:productName>Cockless</FinMon:productName>\n",
      "\t\t\t<FinMon:quantity>1</FinMon:quantity>\n",
      "\t\t\t<FinMon:USPrice>25.0</FinMon:USPrice>\n",
      "\t\t</FinMon:item>\n",
      "\t\t<FinMon:item partNum=\"798-DF\">\n",
      "\t\t\t<FinMon:productName>Necklace</FinMon:productName>\n",
      "\t\t\t<FinMon:quantity>4</FinMon:quantity>\n",
      "\t\t\t<FinMon:USPrice>30.0</FinMon:USPrice>\n",
      "\t\t</FinMon:item>\n",
      "\t\t<FinMon:item partNum=\"798-DD\">\n",
      "\t\t\t<FinMon:productName>Neck</FinMon:productName>\n",
      "\t\t\t<FinMon:quantity>4</FinMon:quantity>\n",
      "\t\t\t<FinMon:USPrice>30.0</FinMon:USPrice>\n",
      "\t\t</FinMon:item>\n",
      "\t</FinMon:items>\n",
      "</FinMon:purchaseOrder>\n",
      "\n"
     ]
    }
   ],
   "source": [
    "print(po.toDOM().toprettyxml(encoding=\"utf-8\").decode(\"utf-8\"))"
   ]
  }
 ],
 "metadata": {
  "anaconda-cloud": {},
  "kernelspec": {
   "display_name": "Python [default]",
   "language": "python",
   "name": "python3"
  },
  "language_info": {
   "codemirror_mode": {
    "name": "ipython",
    "version": 3
   },
   "file_extension": ".py",
   "mimetype": "text/x-python",
   "name": "python",
   "nbconvert_exporter": "python",
   "pygments_lexer": "ipython3",
   "version": "3.5.2"
  },
  "toc": {
   "nav_menu": {
    "height": "98px",
    "width": "252px"
   },
   "navigate_menu": true,
   "number_sections": true,
   "sideBar": true,
   "threshold": "2",
   "toc_cell": true,
   "toc_section_display": "block",
   "toc_window_display": false
  }
 },
 "nbformat": 4,
 "nbformat_minor": 1
}
