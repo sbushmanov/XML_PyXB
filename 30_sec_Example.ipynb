{
 "cells": [
  {
   "cell_type": "markdown",
   "metadata": {
    "toc": "true"
   },
   "source": [
    "# Table of Contents\n",
    " <p><div class=\"lev1 toc-item\"><a href=\"#Creating-XML-from-XSD-Schema\" data-toc-modified-id=\"Creating-XML-from-XSD-Schema-1\"><span class=\"toc-item-num\">1&nbsp;&nbsp;</span>Creating XML from XSD Schema</a></div><div class=\"lev1 toc-item\"><a href=\"#Validating-with-xmllint\" data-toc-modified-id=\"Validating-with-xmllint-2\"><span class=\"toc-item-num\">2&nbsp;&nbsp;</span>Validating with <code>xmllint</code></a></div><div class=\"lev1 toc-item\"><a href=\"#Validating-with-lxml\" data-toc-modified-id=\"Validating-with-lxml-3\"><span class=\"toc-item-num\">3&nbsp;&nbsp;</span>Validating with lxml</a></div>"
   ]
  },
  {
   "cell_type": "markdown",
   "metadata": {},
   "source": [
    "# Creating XML from XSD Schema"
   ]
  },
  {
   "cell_type": "code",
   "execution_count": 2,
   "metadata": {
    "collapsed": false
   },
   "outputs": [
    {
     "name": "stdout",
     "output_type": "stream",
     "text": [
      "Element use None.ПолноеИмя renamed to PolnoeImia\n",
      "Element use None.Дом renamed to Dom\n",
      "Element use None.Улица renamed to Ulitsa\n",
      "Element use None.Город renamed to Gorod\n",
      "Element use None.Район renamed to Raion\n",
      "Element use None.Индекс renamed to Indeks\n",
      "Element use None.Страна renamed to Strana\n",
      "Element Адрес renamed to Adres\n",
      "Python for AbsentNamespace0 requires 1 modules\n"
     ]
    }
   ],
   "source": [
    "!pyxbgen_ru -u example.xsd -m example"
   ]
  },
  {
   "cell_type": "code",
   "execution_count": 3,
   "metadata": {
    "collapsed": true
   },
   "outputs": [],
   "source": [
    "from lxml import etree\n",
    "import example as e"
   ]
  },
  {
   "cell_type": "code",
   "execution_count": 4,
   "metadata": {
    "collapsed": false
   },
   "outputs": [],
   "source": [
    "address = e.Adres()"
   ]
  },
  {
   "cell_type": "code",
   "execution_count": 5,
   "metadata": {
    "collapsed": false
   },
   "outputs": [],
   "source": [
    "address.Strana = \"US\"\n",
    "address.Dom = \"13\"\n",
    "address.Gorod = \"Москва\"\n",
    "address.Indeks = \"6768688\"\n",
    "address.PolnoeImia = \"Пятерочка\"\n",
    "address.Ulitsa = \"Якиманка\""
   ]
  },
  {
   "cell_type": "code",
   "execution_count": 8,
   "metadata": {
    "collapsed": false
   },
   "outputs": [
    {
     "name": "stdout",
     "output_type": "stream",
     "text": [
      "<?xml version=\"1.0\" ?>\n",
      "<Адрес>\n",
      "\t<ПолноеИмя>Пятерочка</ПолноеИмя>\n",
      "\t<Дом>13</Дом>\n",
      "\t<Улица>Якиманка</Улица>\n",
      "\t<Город>Москва</Город>\n",
      "\t<Индекс>6768688</Индекс>\n",
      "\t<Страна>US</Страна>\n",
      "</Адрес>\n",
      "\n"
     ]
    }
   ],
   "source": [
    "print(address.toDOM().toprettyxml())"
   ]
  },
  {
   "cell_type": "code",
   "execution_count": 6,
   "metadata": {
    "collapsed": false
   },
   "outputs": [],
   "source": [
    "print(etree\n",
    "      .tostring(etree.fromstring(address.toxml(encoding=\"utf-8\")), encoding=\"utf-8\",pretty_print=True)\n",
    "      .decode(\"utf-8\"), file=open(\"try_1.xml\",\"w\"))"
   ]
  },
  {
   "cell_type": "markdown",
   "metadata": {},
   "source": [
    "# Validating with `xmllint`"
   ]
  },
  {
   "cell_type": "code",
   "execution_count": 7,
   "metadata": {
    "collapsed": false
   },
   "outputs": [
    {
     "name": "stdout",
     "output_type": "stream",
     "text": [
      "try_1.xml validates\r\n"
     ]
    }
   ],
   "source": [
    "!xmllint --schema example.xsd try_1.xml --noout"
   ]
  },
  {
   "cell_type": "markdown",
   "metadata": {},
   "source": [
    "# Validating with lxml"
   ]
  },
  {
   "cell_type": "code",
   "execution_count": 8,
   "metadata": {
    "collapsed": true
   },
   "outputs": [],
   "source": [
    "from lxml import etree"
   ]
  },
  {
   "cell_type": "code",
   "execution_count": 9,
   "metadata": {
    "collapsed": false
   },
   "outputs": [
    {
     "name": "stdout",
     "output_type": "stream",
     "text": [
      "<?xml version=\"1.0\" encoding=\"utf-8\"?>\r\n",
      "<xs:schema elementFormDefault=\"qualified\" xmlns:xs=\"http://www.w3.org/2001/XMLSchema\">\r\n",
      "  <xs:element name=\"Адрес\">\r\n",
      "    <xs:complexType>\r\n",
      "      <xs:sequence>\r\n",
      "        <xs:element name=\"ПолноеИмя\" type=\"xs:string\" />\r\n",
      "        <xs:element name=\"Дом\" type=\"xs:string\" />\r\n",
      "        <xs:element name=\"Улица\" type=\"xs:string\" />\r\n",
      "        <xs:element name=\"Город\" type=\"xs:string\" />\r\n",
      "        <xs:element name=\"Район\" type=\"xs:string\" minOccurs=\"0\" />\r\n",
      "        <xs:element name=\"Индекс\" type=\"xs:string\" />\r\n",
      "        <xs:element name=\"Страна\" minOccurs=\"0\">\r\n",
      "          <xs:simpleType>\r\n",
      "            <xs:restriction base=\"xs:string\">\r\n",
      "              <xs:enumeration value=\"IN\" />\r\n",
      "              <xs:enumeration value=\"DE\" />\r\n",
      "              <xs:enumeration value=\"ES\" />\r\n",
      "              <xs:enumeration value=\"UK\" />\r\n",
      "              <xs:enumeration value=\"US\" />\r\n",
      "            </xs:restriction>\r\n",
      "          </xs:simpleType>\r\n",
      "        </xs:element>\r\n",
      "      </xs:sequence>\r\n",
      "    </xs:complexType>\r\n",
      "  </xs:element>\r\n",
      "</xs:schema>\r\n"
     ]
    }
   ],
   "source": [
    "!cat example.xsd"
   ]
  },
  {
   "cell_type": "code",
   "execution_count": 10,
   "metadata": {
    "collapsed": false
   },
   "outputs": [],
   "source": [
    "xsd = '''\n",
    "<xs:schema elementFormDefault=\"qualified\" xmlns:xs=\"http://www.w3.org/2001/XMLSchema\">\n",
    "  <xs:element name=\"Адрес\">\n",
    "    <xs:complexType>\n",
    "      <xs:sequence>\n",
    "        <xs:element name=\"ПолноеИмя\" type=\"xs:string\" />\n",
    "        <xs:element name=\"Дом\" type=\"xs:string\" />\n",
    "        <xs:element name=\"Улица\" type=\"xs:string\" />\n",
    "        <xs:element name=\"Город\" type=\"xs:string\" />\n",
    "        <xs:element name=\"Район\" type=\"xs:string\" minOccurs=\"0\" />\n",
    "        <xs:element name=\"Индекс\" type=\"xs:string\" />\n",
    "        <xs:element name=\"Страна\" minOccurs=\"0\">\n",
    "          <xs:simpleType>\n",
    "            <xs:restriction base=\"xs:string\">\n",
    "              <xs:enumeration value=\"IN\" />\n",
    "              <xs:enumeration value=\"DE\" />\n",
    "              <xs:enumeration value=\"ES\" />\n",
    "              <xs:enumeration value=\"UK\" />\n",
    "              <xs:enumeration value=\"US\" />\n",
    "            </xs:restriction>\n",
    "          </xs:simpleType>\n",
    "        </xs:element>\n",
    "      </xs:sequence>\n",
    "    </xs:complexType>\n",
    "  </xs:element>\n",
    "</xs:schema>\n",
    "'''"
   ]
  },
  {
   "cell_type": "code",
   "execution_count": 11,
   "metadata": {
    "collapsed": false
   },
   "outputs": [],
   "source": [
    "import io\n",
    "f = io.StringIO(xsd)"
   ]
  },
  {
   "cell_type": "code",
   "execution_count": 12,
   "metadata": {
    "collapsed": false
   },
   "outputs": [],
   "source": [
    "xmlschema_doc = etree.parse(f)\n",
    "xmlschema = etree.XMLSchema(xmlschema_doc)"
   ]
  },
  {
   "cell_type": "code",
   "execution_count": 13,
   "metadata": {
    "collapsed": false
   },
   "outputs": [
    {
     "data": {
      "text/plain": [
       "True"
      ]
     },
     "execution_count": 13,
     "metadata": {},
     "output_type": "execute_result"
    }
   ],
   "source": [
    "isValid = io.StringIO(address.toxml())\n",
    "doc = etree.parse(isValid)\n",
    "xmlschema.validate(doc)"
   ]
  }
 ],
 "metadata": {
  "anaconda-cloud": {},
  "kernelspec": {
   "display_name": "Python [conda root]",
   "language": "python",
   "name": "conda-root-py"
  },
  "language_info": {
   "codemirror_mode": {
    "name": "ipython",
    "version": 3
   },
   "file_extension": ".py",
   "mimetype": "text/x-python",
   "name": "python",
   "nbconvert_exporter": "python",
   "pygments_lexer": "ipython3",
   "version": "3.5.2"
  },
  "toc": {
   "nav_menu": {
    "height": "66px",
    "width": "252px"
   },
   "navigate_menu": true,
   "number_sections": true,
   "sideBar": true,
   "threshold": "2",
   "toc_cell": true,
   "toc_section_display": "block",
   "toc_window_display": false
  }
 },
 "nbformat": 4,
 "nbformat_minor": 1
}
